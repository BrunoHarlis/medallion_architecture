{
 "cells": [
  {
   "cell_type": "code",
   "execution_count": 0,
   "metadata": {
    "application/vnd.databricks.v1+cell": {
     "cellMetadata": {},
     "inputWidgets": {},
     "nuid": "c7b222a1-234f-4d28-b55f-26a9c61e5a44",
     "showTitle": false,
     "title": ""
    }
   },
   "outputs": [],
   "source": [
    "import dlt\n",
    "from pyspark.sql import functions as f\n",
    "\n",
    "@dlt.view(\n",
    "    name = 'stabe_scd2',\n",
    "    comment = 'create a view with cdf batch'\n",
    ")\n",
    "def stabe_scd2():\n",
    "    df = (\n",
    "        spark.readStream\n",
    "            .format(\"delta\")\n",
    "            .option(\"readChangeFeed\", \"true\")\n",
    "            .option(\"startingVersion\", 1)\n",
    "            .table(\"zz_dev_contabil.default.tabela_3\")\n",
    "    )\n",
    "\n",
    "    return df\n"
   ]
  },
  {
   "cell_type": "code",
   "execution_count": 0,
   "metadata": {
    "application/vnd.databricks.v1+cell": {
     "cellMetadata": {},
     "inputWidgets": {},
     "nuid": "50da6b3a-7ec9-4370-9041-73ed1f6d6cfe",
     "showTitle": false,
     "title": ""
    }
   },
   "outputs": [],
   "source": [
    "dlt.create_target_table(\n",
    "    name = \"gold_scd2\",\n",
    "    comment = 'create a Slow Changing Dimension Type 2 table from cdf',\n",
    "    schema = \"\"\"\n",
    "        sk BIGINT GENERATED ALWAYS AS IDENTITY (START WITH 1 INCREMENT BY 1),\n",
    "        id_tabela_2 INT,\n",
    "        id_tabela_1 INT,\n",
    "        sobrenome STRING,\n",
    "        nome STRING,\n",
    "        __START_AT timestamp,\n",
    "        __END_AT timestamp \n",
    "    \"\"\"\n",
    ")\n",
    "\n",
    "dlt.apply_changes(\n",
    "    target = \"gold_scd2\",\n",
    "    source = \"stabe_scd2\",\n",
    "    keys = [\"id_tabela_2\"],\n",
    "    sequence_by = f.col(\"_commit_timestamp\"),\n",
    "    apply_as_deletes = \"_change_type = 'delete'\",\n",
    "    except_column_list = [\"_commit_version\", \"_change_type\", \"_commit_timestamp\"],\n",
    "    stored_as_scd_type = \"2\"\n",
    ")"
   ]
  }
 ],
 "metadata": {
  "application/vnd.databricks.v1+notebook": {
   "dashboards": [],
   "language": "python",
   "notebookMetadata": {
    "pythonIndentUnit": 4
   },
   "notebookName": "slow_changing_dimension_type_2",
   "widgets": {}
  }
 },
 "nbformat": 4,
 "nbformat_minor": 0
}
